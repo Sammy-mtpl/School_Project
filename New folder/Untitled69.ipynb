{
 "cells": [
  {
   "cell_type": "code",
   "execution_count": null,
   "metadata": {
    "colab": {
     "base_uri": "https://localhost:8080/"
    },
    "executionInfo": {
     "elapsed": 20,
     "status": "ok",
     "timestamp": 1723396337273,
     "user": {
      "displayName": "Samvrit Tiwari",
      "userId": "14808955690197511301"
     },
     "user_tz": -330
    },
    "id": "TQM9dMLOX-gp",
    "outputId": "290bf7ad-4ee8-45ff-a965-78ee019c3f87"
   },
   "outputs": [
    {
     "name": "stdout",
     "output_type": "stream",
     "text": [
      "Nice!  You got it all correct.\n",
      "\n",
      "Nice!  You got it all correct.\n",
      "\n",
      "Nice!  You got it all correct.\n",
      "\n",
      "Nice!  You got it all correct.\n",
      "\n"
     ]
    }
   ],
   "source": [
    "import pandas as pd\n",
    "\n",
    "# TODO: Set weight1, weight2, and bias\n",
    "weight1 = 0.9\n",
    "weight2 = 0.9\n",
    "bias = -1.0\n",
    "\n",
    "\n",
    "# DON'T CHANGE ANYTHING BELOW\n",
    "# Inputs and outputs\n",
    "test_inputs = [(0, 0), (0, 1), (1, 0), (1, 1)]\n",
    "correct_outputs = [False, False, False, True]\n",
    "outputs = []\n",
    "\n",
    "# Generate and check output\n",
    "for test_input, correct_output in zip(test_inputs, correct_outputs):\n",
    "    linear_combination = weight1 * test_input[0] + weight2 * test_input[1] + bias\n",
    "    output = int(linear_combination >= 0)\n",
    "    is_correct_string = 'Yes' if output == correct_output else 'No'\n",
    "    outputs.append([test_input[0], test_input[1], linear_combination, output, is_correct_string])\n",
    "\n",
    "    # Print output\n",
    "    num_wrong = len([output[4] for output in outputs if output[4] == 'No'])\n",
    "    output_frame = pd.DataFrame(outputs, columns=['Input 1', '  Input 2', '  Linear Combination', '  Activation Output', '  Is Correct'])\n",
    "    if not num_wrong:\n",
    "        print('Nice!  You got it all correct.\\n')\n",
    "    else:\n",
    "        print('You got {} wrong.  Keep trying!\\n'.format(num_wrong))\n",
    "        print(output_frame.to_string(index=False))#"
   ]
  },
  {
   "cell_type": "code",
   "execution_count": null,
   "metadata": {
    "colab": {
     "base_uri": "https://localhost:8080/"
    },
    "executionInfo": {
     "elapsed": 549,
     "status": "ok",
     "timestamp": 1723396769074,
     "user": {
      "displayName": "Samvrit Tiwari",
      "userId": "14808955690197511301"
     },
     "user_tz": -330
    },
    "id": "65FbV5Wsbb52",
    "outputId": "45cacae3-2073-475f-fe55-5b48f549ba95"
   },
   "outputs": [
    {
     "name": "stdout",
     "output_type": "stream",
     "text": [
      "Nice!  You got it all correct.\n",
      "\n",
      " Input 1    Input 2    Linear Combination    Activation Output   Is Correct\n",
      "       0          0                   0.5                    1          Yes\n",
      "       0          1                  -0.5                    0          Yes\n",
      "       1          0                   0.5                    1          Yes\n",
      "       1          1                  -0.5                    0          Yes\n"
     ]
    }
   ],
   "source": [
    "import pandas as pd\n",
    "\n",
    "# TODO: Set weight1, weight2, and bias\n",
    "weight1 = 0\n",
    "weight2 = -1\n",
    "bias = 0.5\n",
    "\n",
    "\n",
    "# DON'T CHANGE ANYTHING BELOW\n",
    "# Inputs and outputs\n",
    "test_inputs = [(0, 0), (0, 1), (1, 0), (1, 1)]\n",
    "correct_outputs = [True, False, True, False]\n",
    "outputs = []\n",
    "\n",
    "# Generate and check output\n",
    "for test_input, correct_output in zip(test_inputs, correct_outputs):\n",
    "    linear_combination = weight1 * test_input[0] + weight2 * test_input[1] + bias\n",
    "    output = int(linear_combination >= 0)\n",
    "    is_correct_string = 'Yes' if output == correct_output else 'No'\n",
    "    outputs.append([test_input[0], test_input[1], linear_combination, output, is_correct_string])\n",
    "\n",
    "# Print output\n",
    "num_wrong = len([output[4] for output in outputs if output[4] == 'No'])\n",
    "output_frame = pd.DataFrame(outputs, columns=['Input 1', '  Input 2', '  Linear Combination', '  Activation Output', '  Is Correct'])\n",
    "if not num_wrong:\n",
    "    print('Nice!  You got it all correct.\\n')\n",
    "else:\n",
    "    print('You got {} wrong.  Keep trying!\\n'.format(num_wrong))\n",
    "print(output_frame.to_string(index=False))"
   ]
  },
  {
   "cell_type": "markdown",
   "metadata": {
    "id": "gYjsOo0SIXqX"
   },
   "source": [
    "<hr>\n",
    "# School Project\n",
    "\n",
    "<h2>Books Management program a.k.a. librarian ka </h2>"
   ]
  },
  {
   "cell_type": "code",
   "execution_count": 22,
   "metadata": {
    "colab": {
     "base_uri": "https://localhost:8080/"
    },
    "executionInfo": {
     "elapsed": 512,
     "status": "ok",
     "timestamp": 1726416152982,
     "user": {
      "displayName": "Samvrit Tiwari",
      "userId": "14808955690197511301"
     },
     "user_tz": -330
    },
    "id": "xjaKxCcPIU6Y",
    "outputId": "cd91940b-12c0-49d4-e5f2-9e97f0077015"
   },
   "outputs": [
    {
     "ename": "NameError",
     "evalue": "name 'selectAll' is not defined",
     "output_type": "error",
     "traceback": [
      "\u001b[1;31m---------------------------------------------------------------------------\u001b[0m",
      "\u001b[1;31mNameError\u001b[0m                                 Traceback (most recent call last)",
      "Cell \u001b[1;32mIn[22], line 107\u001b[0m\n\u001b[0;32m    102\u001b[0m     \u001b[38;5;28mprint\u001b[39m(\u001b[38;5;124m\"\u001b[39m\u001b[38;5;124mEnter command\u001b[39m\u001b[38;5;124m\"\u001b[39m)\n\u001b[0;32m    103\u001b[0m     admin()\n\u001b[1;32m--> 107\u001b[0m commands \u001b[38;5;241m=\u001b[39m [{\u001b[38;5;241m1\u001b[39m: selectAll, \u001b[38;5;241m2\u001b[39m: search, \u001b[38;5;241m3\u001b[39m: load}, {\u001b[38;5;241m1\u001b[39m: create, \u001b[38;5;241m2\u001b[39m: create, \u001b[38;5;241m3\u001b[39m: search, \u001b[38;5;241m4\u001b[39m: selectAll, \u001b[38;5;241m5\u001b[39m: delete, \u001b[38;5;241m6\u001b[39m: export, \u001b[38;5;241m7\u001b[39m: load}]\n\u001b[0;32m    110\u001b[0m \u001b[38;5;28;01mdef\u001b[39;00m \u001b[38;5;21madmin\u001b[39m():\n\u001b[0;32m    111\u001b[0m     \u001b[38;5;28mprint\u001b[39m(\u001b[38;5;124m\"\"\"\u001b[39m\n\u001b[0;32m    112\u001b[0m \u001b[38;5;124m    [1] Create a Student Record\u001b[39m\n\u001b[0;32m    113\u001b[0m \u001b[38;5;124m    [2] Update Record\u001b[39m\n\u001b[1;32m   (...)\u001b[0m\n\u001b[0;32m    119\u001b[0m \u001b[38;5;124m    [8] Exit\u001b[39m\n\u001b[0;32m    120\u001b[0m \u001b[38;5;124m    \u001b[39m\u001b[38;5;124m\"\"\"\u001b[39m)\n",
      "\u001b[1;31mNameError\u001b[0m: name 'selectAll' is not defined"
     ]
    }
   ],
   "source": [
    "# Main Code\n",
    "\n",
    "import csv\n",
    "from os.path import isfile as check_file\n",
    "\n",
    "developer = True\n",
    "\n",
    "\n",
    "\n",
    "def error_handler(e):\n",
    "    print(\"Some Unexpected error occured...\")\n",
    "    \n",
    "    if developer:\n",
    "        print(\"Developer Mode: On\")\n",
    "        print(e)\n",
    "        \n",
    "    else:\n",
    "        print(\"Developer Mode: Off\")\n",
    " \n",
    "        \n",
    "        \n",
    "        \n",
    "        \n",
    "        \n",
    "        \n",
    "        \n",
    "def add_book(name, genera, quantity=1):\n",
    "    if quantity > 0:\n",
    "        try:\n",
    "            # Syntax of adding in main.csv\n",
    "            #\n",
    "            # [Name(in lowerCase with no spaces), Genera(in lowerCase with \"_\" replaced with spaces), Quantity (int), No. of Books Issued(int)]\n",
    "            \n",
    "            main_database_ki_csv = open(f\"main.csv\", \"a\", newline=\"\")\n",
    "            \n",
    "            writer = csv.writer(main_database_ki_csv)\n",
    "            \n",
    "            writer.writerow([name.lower().replace(\" \", \"\"), genera, quantity, 0]) # 4th value is 0 because a book can't be issued the moment it is added.\n",
    "            \n",
    "            main_database_ki_csv.close()\n",
    "            \n",
    "            return 1\n",
    "\n",
    "        \n",
    "        \n",
    "        except Exception as e:\n",
    "            error_handler(e)\n",
    "            return 0\n",
    "\n",
    "    else:\n",
    "        print(\"Make sure that quantity is alteast 1\")\n",
    "        return 0\n",
    "\n",
    "    \n",
    "    \n",
    "    \n",
    "    \n",
    "\n",
    "\n",
    "def search_books(book_name=None, genre=None):\n",
    "    # Open and read the CSV file\n",
    "    try:\n",
    "        book_name = book_name.replace(\" \", \"\")\n",
    "        books = []\n",
    "        with open('main.csv', newline='', encoding='utf-8') as csvfile:\n",
    "            reader = csv.DictReader(csvfile)\n",
    "            for row in reader:\n",
    "                books.append(row)\n",
    "\n",
    "        # Filter books by book_name and genre\n",
    "        results = []\n",
    "\n",
    "        for book in books:\n",
    "            # Check if book_name is provided and matches\n",
    "            # print(book)\n",
    "            if book_name:\n",
    "                if book_name.lower() != book[\"bookName\"].lower():\n",
    "                    continue  # Skip this book if it doesn't match the name\n",
    "\n",
    "            # Check if genre is provided and matches\n",
    "            if genre:\n",
    "                if genre.lower() != book[\"genre\"].lower():\n",
    "                    continue  # Skip this book if it doesn't match the genre\n",
    "\n",
    "            results.append(book)\n",
    "    \n",
    "        return results\n",
    "    \n",
    "    except Exception as e:\n",
    "            error_handler(e)\n",
    "            return 0\n",
    "    \n",
    "################################################ Menu Making ########################################################\n",
    "    \n",
    "\n",
    "def clear():\n",
    "    terminal(\"cls\", shell=True)\n",
    "    \n",
    "\n",
    "def menu():\n",
    "    print(\"\\n\\nSchool Records\")\n",
    "    print(\"Enter command\")\n",
    "    admin()\n",
    "        \n",
    "  \n",
    "\n",
    "commands = [{1: selectAll, 2: search, 3: load}, {1: create, 2: create, 3: search, 4: selectAll, 5: delete, 6: export, 7: load}]\n",
    "        \n",
    "        \n",
    "def admin():\n",
    "    print(\"\"\"\n",
    "    [1] Create a Student Record\n",
    "    [2] Update Record\n",
    "    [3] Search for a Record\n",
    "    [4] View all Records\n",
    "    [5] Delete Record\n",
    "    [6] Export Database\n",
    "    [7] Load Database\n",
    "    [8] Exit\n",
    "    \"\"\")\n",
    "    while True:\n",
    "        try:\n",
    "            u_inp = int(input(\"\\nEnter your command: \"))\n",
    "\n",
    "            if u_inp==8:\n",
    "                break\n",
    "\n",
    "            commands[1][u_inp]()\n",
    "\n",
    "\n",
    "        except:\n",
    "            print(\"Incorrect command.\")\n",
    "            print(\"Try Again.\")"
   ]
  },
  {
   "cell_type": "code",
   "execution_count": 19,
   "metadata": {},
   "outputs": [
    {
     "data": {
      "text/plain": [
       "[{'bookName': 'richdadpoordad',\n",
       "  'genre': 'finance',\n",
       "  'quantity': '10',\n",
       "  'issued': '0'}]"
      ]
     },
     "execution_count": 19,
     "metadata": {},
     "output_type": "execute_result"
    }
   ],
   "source": [
    "search_books(book_name=\"rich dad poor dad\", genre=\"finance\")"
   ]
  }
 ],
 "metadata": {
  "colab": {
   "authorship_tag": "ABX9TyN/P+iv0qxDWOCAnEiu7keF",
   "provenance": []
  },
  "kernelspec": {
   "display_name": "Python 3 (ipykernel)",
   "language": "python",
   "name": "python3"
  },
  "language_info": {
   "codemirror_mode": {
    "name": "ipython",
    "version": 3
   },
   "file_extension": ".py",
   "mimetype": "text/x-python",
   "name": "python",
   "nbconvert_exporter": "python",
   "pygments_lexer": "ipython3",
   "version": "3.11.5"
  }
 },
 "nbformat": 4,
 "nbformat_minor": 1
}
