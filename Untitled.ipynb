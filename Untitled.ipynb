{
 "cells": [
  {
   "cell_type": "markdown",
   "id": "ad9215cb-dc6e-4a6d-bcc2-a8063ae3e97c",
   "metadata": {
    "tags": []
   },
   "source": [
    "<h3> Real model is f(x) = x^2 </h3>"
   ]
  },
  {
   "cell_type": "code",
   "execution_count": 4,
   "id": "efe7fde1-323c-451c-ac28-c302aa843615",
   "metadata": {
    "tags": []
   },
   "outputs": [],
   "source": [
    "def generate_data_points(n):\n",
    "    lst = []\n",
    "    for i in range(n):\n",
    "        lst.append(i**2)\n",
    "        \n",
    "    return lst"
   ]
  },
  {
   "cell_type": "code",
   "execution_count": 6,
   "id": "9f4ecd76-b778-45f5-b55e-421eecaf5ddc",
   "metadata": {
    "tags": []
   },
   "outputs": [],
   "source": [
    "raw_data = generate_data_points(1000)"
   ]
  },
  {
   "cell_type": "code",
   "execution_count": 8,
   "id": "df63f925-a5cd-4a86-a614-19efd00d90c7",
   "metadata": {
    "tags": []
   },
   "outputs": [
    {
     "data": {
      "text/plain": [
       "1000"
      ]
     },
     "execution_count": 8,
     "metadata": {},
     "output_type": "execute_result"
    }
   ],
   "source": [
    "len(raw_data)"
   ]
  },
  {
   "cell_type": "code",
   "execution_count": 13,
   "id": "ea35ad69-bf66-425b-90ef-3e3b5738b0b7",
   "metadata": {
    "tags": []
   },
   "outputs": [],
   "source": [
    "def pred_network(list_of_Constant):\n",
    "    approximated_function = list_of_Constant[0] + list_of_Constant[1] * (x) + list_of_Constant[2] * (x**2)\n",
    "    return approximated_function"
   ]
  },
  {
   "cell_type": "code",
   "execution_count": null,
   "id": "17505f7e-1db0-4067-bb2d-04541ac3a909",
   "metadata": {},
   "outputs": [],
   "source": [
    "constants = [0, 0, 0, 0]\n"
   ]
  }
 ],
 "metadata": {
  "kernelspec": {
   "display_name": "Python 3 (ipykernel)",
   "language": "python",
   "name": "python3"
  },
  "language_info": {
   "codemirror_mode": {
    "name": "ipython",
    "version": 3
   },
   "file_extension": ".py",
   "mimetype": "text/x-python",
   "name": "python",
   "nbconvert_exporter": "python",
   "pygments_lexer": "ipython3",
   "version": "3.11.5"
  }
 },
 "nbformat": 4,
 "nbformat_minor": 5
}
